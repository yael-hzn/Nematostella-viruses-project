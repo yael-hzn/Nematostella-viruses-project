{
 "cells": [
  {
   "cell_type": "code",
   "execution_count": null,
   "metadata": {},
   "outputs": [],
   "source": [
    "# Script name       : Nv_viruses_alignment_summary_script\n",
    "# Written by        : Yael Hazan\n",
    "# Date              : 15-July-2018\n",
    "# script description: This script creates a table that summarize the alignments of trinity sequences (contigs)\n",
    "#                     against viruses, Nv and bacteria sequences. \n",
    "#             Step 1: Load the blast output files into df's. \n",
    "#             Step 2: Create a table (df) that summarize trinity sequences alignments.\n",
    "#             Step 3: Writing the table to a csv file.\n",
    "#             Step 4: Create a fasta file with virus only sequences. "
   ]
  },
  {
   "cell_type": "code",
   "execution_count": null,
   "metadata": {},
   "outputs": [],
   "source": [
    "DIR = r'/cs/labs/michall/yaelh/Projects/Nematostella_viruses_project/Processed_files'\n",
    "       \n",
    "\n",
    "import os\n",
    "import numpy as np\n",
    "import pandas as pd \n",
    "from Bio import SeqIO"
   ]
  },
  {
   "cell_type": "code",
   "execution_count": null,
   "metadata": {},
   "outputs": [],
   "source": [
    "# Step 1: Load the blast input files into df's (blast of trinity sequences against viruses, Nv and bacteria):\n",
    "\n",
    "columns = ['query_id', 'subject_id', 'pct_identity', 'aln_length', 'n_of_mismatches', \\\n",
    "           'gap_openings', 'q_start', 'q_end', 's_start', 's_end', 'e_value', 'bit_score']\n",
    "\n",
    "trin_virus_df = pd.read_table(os.path.join(DIR, 'Trinity_virus_e10_tabular_txid.out'), header = None, names=columns)\n",
    "trin_Nv_df = pd.read_table(os.path.join(DIR, 'Trinity_NV_e5_tabular.out'), header = None, names=columns)\n",
    "trin_bac_df = pd.read_table(os.path.join(DIR, 'Trinity_bacteriaarchea_e10_tabular.out'), header = None, names=columns)\n",
    "\n",
    "# reset the index for the trinity-virus df (the only one that contains description):\n",
    "trin_virus_df = trin_virus_df.reset_index()\n",
    "\n",
    "# rename columns:\n",
    "trin_virus_df = trin_virus_df.rename(columns = {'index':'Contig', 'subject_id':'Virus_accession', \\\n",
    "                                                'e_value':'Virus_E_value', 'q_start':'Virus_q_start', 'q_end':'Virus_q_end'})\n",
    "trin_Nv_df = trin_Nv_df.rename(columns = {'query_id':'Contig', 'e_value':'Nv_E_value', \\\n",
    "                                          'q_start':'Nv_q_start', 'q_end':'Nv_q_end'})\n",
    "trin_bac_df = trin_bac_df.rename(columns = {'query_id':'Contig', 'e_value':'Bacteria_E_value', \\\n",
    "                                            'q_start':'Bacteria_q_start', 'q_end':'Bacteria_q_end'})\n",
    "\n",
    "# drop unnecessary columns:\n",
    "trin_virus_df = trin_virus_df[['Contig', 'Virus_accession', 'Virus_E_value', 'Virus_q_start', 'Virus_q_end']]\n",
    "trin_Nv_df = trin_Nv_df[['Contig', 'Nv_E_value', 'Nv_q_start', 'Nv_q_end']]\n",
    "trin_bac_df = trin_bac_df[['Contig', 'Bacteria_E_value', 'Bacteria_q_start', 'Bacteria_q_end']]\n"
   ]
  },
  {
   "cell_type": "code",
   "execution_count": null,
   "metadata": {},
   "outputs": [],
   "source": [
    "# Step 2: Create a table (df) that summarize trinity sequnces alignments:\n",
    "\n",
    "merge_virus_Nv = pd.merge(trin_virus_df, trin_Nv_df, on =['Contig'], how = 'outer')\n",
    "trin_align_summary_df = pd.merge(merge_virus_Nv, trin_bac_df, on =['Contig'], how = 'outer')\n",
    "\n",
    "\n",
    "\n"
   ]
  },
  {
   "cell_type": "code",
   "execution_count": null,
   "metadata": {},
   "outputs": [],
   "source": [
    "# Step 3: Writing the table to a csv file:\n",
    "\n",
    "trin_align_summary_df.to_csv(os.path.join(DIR,'trin_align_summary.csv.gz'),index = False, compression = 'gzip')"
   ]
  },
  {
   "cell_type": "code",
   "execution_count": null,
   "metadata": {},
   "outputs": [],
   "source": [
    "# (use this if I want to not display the NaN values)\n",
    "trin_align_summary_df.fillna('').head()"
   ]
  },
  {
   "cell_type": "code",
   "execution_count": null,
   "metadata": {},
   "outputs": [],
   "source": [
    "trin_align_summary_df.head()"
   ]
  },
  {
   "cell_type": "code",
   "execution_count": null,
   "metadata": {},
   "outputs": [],
   "source": [
    "# Step 4: Create a fasta file with virus only sequences. Here I extract from the trinity fasta file sequences \n",
    "#         that were aligned only to virus database (and not to Nematostella or bacteria). In addition, only the part \n",
    "#         of the sequence that was aligned will be extracted and written to a new fasta file, not the whole original \n",
    "#         sequence (only from q_start to q_end).\n",
    " \n",
    "\n",
    "virus_only_contigs = []\n",
    "mini_temp_list = []\n",
    "trinity_fasta_dic = {}\n",
    "\n",
    "# Create a list of lists with virus only contigs, q_start and q_end :\n",
    "for i in range(len(trin_align_summary_df)):\n",
    "    if  pd.isna(trin_align_summary_df['Nv_E_value'][i]) \\\n",
    "    and pd.isna(trin_align_summary_df['Bacteria_E_value'][i]):\n",
    "        mini_temp_list = [trin_align_summary_df['Contig'][i], \\\n",
    "                          trin_align_summary_df['Virus_q_start'][i], \\\n",
    "                          trin_align_summary_df['Virus_q_end'][i]]\n",
    "        \n",
    "        virus_only_contigs.append(mini_temp_list)\n",
    "        \n",
    "\n",
    "        \n",
    "# Load the trinity fasta file into a dictionary:\n",
    "for record in SeqIO.parse(os.path.join(DIR, 'Trinity.fasta'), 'fasta'):\n",
    "        trinity_fasta_dic[record.id] = str(record.seq)\n",
    "        \n",
    "\n",
    "# Create the new fasta file with virus only sequences:\n",
    "with open(os.path.join(DIR, 'Trinity_virus.fasta'), \"w\") as f:\n",
    "    for i in range(len(virus_only_contigs)):\n",
    "        contig = virus_only_contigs[i][0]\n",
    "\n",
    "#       When start > end make a correction (start and end will switch:\n",
    "\n",
    "        if int(virus_only_contigs[i][1]) > int(virus_only_contigs[i][2]):\n",
    "            start = int(virus_only_contigs[i][2]) - 1\n",
    "            end = int(virus_only_contigs[i][1])\n",
    "            \n",
    "#       Otherwise, no need for correction:            \n",
    "        else:\n",
    "            start = int(virus_only_contigs[i][1]) - 1\n",
    "            end = int(virus_only_contigs[i][2]) \n",
    "                    \n",
    "        seq = trinity_fasta_dic[contig][start:end]\n",
    "            \n",
    "            \n",
    "        f.write('>' + contig + '\\n' + seq + '\\n')"
   ]
  },
  {
   "cell_type": "code",
   "execution_count": null,
   "metadata": {},
   "outputs": [],
   "source": []
  }
 ],
 "metadata": {
  "kernelspec": {
   "display_name": "Python 3",
   "language": "python",
   "name": "python3"
  },
  "language_info": {
   "codemirror_mode": {
    "name": "ipython",
    "version": 3
   },
   "file_extension": ".py",
   "mimetype": "text/x-python",
   "name": "python",
   "nbconvert_exporter": "python",
   "pygments_lexer": "ipython3",
   "version": "3.6.6"
  }
 },
 "nbformat": 4,
 "nbformat_minor": 2
}
