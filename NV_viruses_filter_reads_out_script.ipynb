{
 "cells": [
  {
   "cell_type": "code",
   "execution_count": null,
   "metadata": {},
   "outputs": [],
   "source": [
    "# Script name       : NV_viruses_filter_reads_out_script\n",
    "# Written by        : Yael Hazan\n",
    "# Date              : 13-May-2018\n",
    "# Script description: This script filters out reads from one file according to data on anoter file. \n",
    "#                     Step 1: Load files into df's. \n",
    "#                     Step 2: removing NV reads from source data, using merge.\n",
    "#                     Step 3: Writing the resulted df's to csv files"
   ]
  },
  {
   "cell_type": "code",
   "execution_count": null,
   "metadata": {},
   "outputs": [],
   "source": [
    "DIR = r'/cs/labs/michall/yaelh/Nematostella_viruses_project/Processed_files'\n",
    "       \n",
    "import os\n",
    "import numpy as np\n",
    "import pandas as pd \n",
    "from Bio import SeqIO\n",
    "from Bio.SeqRecord import SeqRecord\n",
    "from Bio.Seq import back_transcribe"
   ]
  },
  {
   "cell_type": "code",
   "execution_count": null,
   "metadata": {},
   "outputs": [],
   "source": [
    "# Step 1: Load files into df's. \n",
    "\n",
    "# Load the Input R1 & R2 fasta files (NV transcriptome reads after filtering out NV reads using bowtie,\n",
    "# will be called source_reads)\n",
    "\n",
    "def parse_fasta(dir,file_name):\n",
    "    fasta_dict = {}\n",
    "    \n",
    "    for record in SeqIO.parse(os.path.join(dir, file_name), 'fasta'):\n",
    "        fasta_dict[record.id] = [str(record.seq), len(record.seq)]\n",
    "    \n",
    "    return fasta_dict\n",
    "\n",
    "\n",
    "source_reads_dict = parse_fasta(DIR,'Input_R1_file.fasta')\n",
    "source_R1_reads_df = pd.DataFrame.from_dict(source_reads_dict, orient = 'index')\n",
    "\n",
    "source_reads_dict = parse_fasta(DIR,'Input_R2_file.fasta')\n",
    "source_R2_reads_df = pd.DataFrame.from_dict(source_reads_dict, orient = 'index')\n",
    "\n",
    "\n",
    "#Load the blast R1 & R2 output files (blast of NV transcriptome againts NM genome):\n",
    "\n",
    "blast_R1_out_df = pd.read_table(os.path.join(DIR, 'Nematostella_R1_blast_tabular.out'), header = None)\n",
    "blast_R2_out_df = pd.read_table(os.path.join(DIR, 'Nematostella_R2_blast_tabular.out'), header = None)\n",
    "\n",
    "\n",
    "# Rename columns:\n",
    "source_R1_reads_df = source_R1_reads_df.rename(columns = {0:'Sequence', 1:'Sequence Length'})\n",
    "source_R2_reads_df = source_R2_reads_df.rename(columns = {0:'Sequence', 1:'Sequence Length'})\n",
    "blast_R1_out_df = blast_R1_out_df.rename(columns = {0:'Sequence id'})\n",
    "blast_R2_out_df = blast_R2_out_df.rename(columns = {0:'Sequence id'})\n",
    "\n",
    "\n",
    "# Changing the index to be numerical: \n",
    "source_R1_reads_df = source_R1_reads_df.reset_index()\n",
    "source_R2_reads_df = source_R2_reads_df.reset_index()\n",
    "source_R1_reads_df = source_R1_reads_df.rename(columns = {'index':'Sequence id'})\n",
    "source_R2_reads_df = source_R2_reads_df.rename(columns = {'index':'Sequence id'})\n",
    "\n",
    "\n"
   ]
  },
  {
   "cell_type": "code",
   "execution_count": null,
   "metadata": {},
   "outputs": [],
   "source": [
    "# Step 2: removing NV reads from source data, using merge:\n",
    "\n",
    "# Finding the requested reads in the source data using merge:\n",
    "merged_R1_reads_df = pd.merge(source_R1_reads_df, blast_R1_out_df, on =['Sequence id'], how = 'left', indicator = 'NV_sequence')\n",
    "merged_R1_reads_df['NV_sequence'] = np.where(merged_R1_reads_df.NV_sequence =='both',True, False)\n",
    "\n",
    "merged_R2_reads_df = pd.merge(source_R2_reads_df, blast_R2_out_df, on =['Sequence id'], how = 'left', indicator = 'NV_sequence')\n",
    "merged_R2_reads_df['NV_sequence'] = np.where(merged_R2_reads_df.NV_sequence =='both',True, False)\n",
    "\n",
    "\n",
    "# Removing the requested reads from the source data:\n",
    "no_NV_R1_reads_df = merged_R1_reads_df.loc[merged_R1_reads_df['NV_sequence'] == False]\n",
    "no_NV_R2_reads_df = merged_R2_reads_df.loc[merged_R2_reads_df['NV_sequence'] == False]\n",
    "\n",
    "\n",
    "# Removing unnecessary reads from the resulted df's:\n",
    "no_NV_R1_reads_df = no_NV_R1_reads_df.drop([1,2,3,4,5,6,7,8,9,10,11,'NV_sequence'], axis = 1)\n",
    "no_NV_R2_reads_df = no_NV_R2_reads_df.drop([1,2,3,4,5,6,7,8,9,10,11,'NV_sequence'], axis = 1)"
   ]
  },
  {
   "cell_type": "code",
   "execution_count": null,
   "metadata": {},
   "outputs": [],
   "source": [
    "# Step 3: Writing the resulted df's to csv or fasta files:\n",
    "\n",
    "no_NV_R1_reads_df.to_csv(os.path.join(DIR,'no_NV_R1_reads.csv.gz'),index = False, compression = 'gzip')\n",
    "no_NV_R2_reads_df.to_csv(os.path.join(DIR,'no_NV_R2_reads.csv.gz'),index = False, compression = 'gzip')\n",
    "\n",
    "def df_to_fasta(df, filename):\n",
    "    with open(os.path.join(DIR, filename), \"w\") as f:\n",
    "        for i in range(len(df)):\n",
    "            f.write('>' + df.loc[i][0] + '\\n' + df.loc[i][1] + '\\n')\n",
    "            \n",
    "            \n",
    "df_to_fasta(no_NV_R1_reads_df, 'no_NV_R1_reads_df.fasta')\n",
    "df_to_fasta(no_NV_R2_reads_df, 'no_NV_R2_reads_df.fasta')"
   ]
  }
 ],
 "metadata": {
  "kernelspec": {
   "display_name": "Python 3",
   "language": "python",
   "name": "python3"
  },
  "language_info": {
   "codemirror_mode": {
    "name": "ipython",
    "version": 3
   },
   "file_extension": ".py",
   "mimetype": "text/x-python",
   "name": "python",
   "nbconvert_exporter": "python",
   "pygments_lexer": "ipython3",
   "version": "3.6.6"
  }
 },
 "nbformat": 4,
 "nbformat_minor": 2
}
